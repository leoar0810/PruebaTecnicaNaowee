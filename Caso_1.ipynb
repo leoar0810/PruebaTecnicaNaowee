{
  "nbformat": 4,
  "nbformat_minor": 0,
  "metadata": {
    "colab": {
      "provenance": []
    },
    "kernelspec": {
      "name": "python3",
      "display_name": "Python 3"
    },
    "language_info": {
      "name": "python"
    }
  },
  "cells": [
    {
      "cell_type": "code",
      "source": [
        "import numpy as np\n",
        "import pandas as pd\n",
        "import matplotlib.pyplot as plt\n",
        "import seaborn as sns"
      ],
      "metadata": {
        "id": "Ui4LTdUtNnFW"
      },
      "execution_count": 64,
      "outputs": []
    },
    {
      "cell_type": "markdown",
      "source": [
        "## Lecutra de set de datos"
      ],
      "metadata": {
        "id": "DlPrFEoDNum8"
      }
    },
    {
      "cell_type": "code",
      "execution_count": 65,
      "metadata": {
        "id": "nec4_7h3Wvo6"
      },
      "outputs": [],
      "source": [
        "url1 = \"https://raw.githubusercontent.com/daramireh/simonBolivarCienciaDatos/refs/heads/main/world_cup_women.csv\"\n",
        "url2 = \"https://raw.githubusercontent.com/daramireh/simonBolivarCienciaDatos/refs/heads/main/matches_1991_2023.csv\"\n",
        "\n",
        "df_world_cup = pd.read_csv(url1)\n",
        "df_matches = pd.read_csv(url2)"
      ]
    },
    {
      "cell_type": "markdown",
      "source": [
        " 1. Análisis donde identifique las variables del conjunto de datos mostrando los valores nulos, duplicados y el tipo de variable.\n"
      ],
      "metadata": {
        "id": "BWdorDZcYl4C"
      }
    },
    {
      "cell_type": "markdown",
      "source": [
        "* Dataset world_cup_women"
      ],
      "metadata": {
        "id": "T8J6vb_1OB01"
      }
    },
    {
      "cell_type": "code",
      "source": [
        "# Contar valores nulos por columna\n",
        "print(\"\\nValores nulos por columna:\")\n",
        "print(df_world_cup.isnull().sum())"
      ],
      "metadata": {
        "colab": {
          "base_uri": "https://localhost:8080/"
        },
        "id": "v4_ceXomOJiU",
        "outputId": "72282288-df2e-4b34-d86b-0e997a6fdb12"
      },
      "execution_count": 66,
      "outputs": [
        {
          "output_type": "stream",
          "name": "stdout",
          "text": [
            "\n",
            "Valores nulos por columna:\n",
            "Year             0\n",
            "Host             0\n",
            "Teams            0\n",
            "Champion         1\n",
            "Runner-Up        1\n",
            "TopScorrer       0\n",
            "Attendance       0\n",
            "AttendanceAvg    0\n",
            "Matches          0\n",
            "dtype: int64\n"
          ]
        }
      ]
    },
    {
      "cell_type": "code",
      "source": [
        "# Contar valores duplicados\n",
        "print(\"\\nCantidad de filas duplicadas:\")\n",
        "print(df_world_cup.duplicated().sum())"
      ],
      "metadata": {
        "colab": {
          "base_uri": "https://localhost:8080/"
        },
        "id": "axS4aoyCOeJ3",
        "outputId": "e4250afb-b047-4495-b613-5ed797acc196"
      },
      "execution_count": 67,
      "outputs": [
        {
          "output_type": "stream",
          "name": "stdout",
          "text": [
            "\n",
            "Cantidad de filas duplicadas:\n",
            "0\n"
          ]
        }
      ]
    },
    {
      "cell_type": "code",
      "source": [
        "# Mostrar el tipo de dato de cada columna\n",
        "print(\"\\nTipos de datos de cada columna:\")\n",
        "print(df_world_cup.dtypes)"
      ],
      "metadata": {
        "colab": {
          "base_uri": "https://localhost:8080/"
        },
        "id": "X_xvp2XKOhp1",
        "outputId": "6aedfbc2-3a04-46d2-9db9-8b58b8c69c09"
      },
      "execution_count": 68,
      "outputs": [
        {
          "output_type": "stream",
          "name": "stdout",
          "text": [
            "\n",
            "Tipos de datos de cada columna:\n",
            "Year              int64\n",
            "Host             object\n",
            "Teams             int64\n",
            "Champion         object\n",
            "Runner-Up        object\n",
            "TopScorrer       object\n",
            "Attendance        int64\n",
            "AttendanceAvg     int64\n",
            "Matches           int64\n",
            "dtype: object\n"
          ]
        }
      ]
    },
    {
      "cell_type": "markdown",
      "source": [
        "*  Dataset matches_1991_2023"
      ],
      "metadata": {
        "id": "wSjZI_8XaEn7"
      }
    },
    {
      "cell_type": "code",
      "source": [
        "# Contar valores nulos por columna\n",
        "print(\"\\nValores nulos por columna:\")\n",
        "print(df_matches.isnull().sum())"
      ],
      "metadata": {
        "colab": {
          "base_uri": "https://localhost:8080/"
        },
        "id": "HSOjMBmpZ2Lw",
        "outputId": "0434dfff-cad7-4852-8ff1-c336e0592b24"
      },
      "execution_count": 69,
      "outputs": [
        {
          "output_type": "stream",
          "name": "stdout",
          "text": [
            "\n",
            "Valores nulos por columna:\n",
            "home_team                            0\n",
            "away_team                            0\n",
            "home_score                           0\n",
            "home_xg                            232\n",
            "home_penalty                       337\n",
            "away_score                           0\n",
            "away_xg                            232\n",
            "away_penalty                       337\n",
            "home_manager                       180\n",
            "home_captain                       180\n",
            "away_manager                       180\n",
            "away_captain                       180\n",
            "Attendance                           0\n",
            "Venue                                0\n",
            "Officials                            3\n",
            "Round                                0\n",
            "Date                                 0\n",
            "Score                                0\n",
            "Referee                              7\n",
            "Notes                              328\n",
            "Host                                 0\n",
            "Year                                 0\n",
            "home_goal                           96\n",
            "away_goal                          148\n",
            "home_goal_long                      96\n",
            "away_goal_long                     148\n",
            "home_own_goal                      330\n",
            "away_own_goal                      335\n",
            "home_penalty_goal                  294\n",
            "away_penalty_goal                  313\n",
            "home_penalty_miss_long             335\n",
            "away_penalty_miss_long             341\n",
            "home_penalty_shootout_goal_long    337\n",
            "away_penalty_shootout_goal_long    337\n",
            "home_penalty_shootout_miss_long    340\n",
            "away_penalty_shootout_miss_long    338\n",
            "home_red_card                      340\n",
            "away_red_card                      337\n",
            "home_yellow_red_card               340\n",
            "away_yellow_red_card               345\n",
            "home_yellow_card_long              135\n",
            "away_yellow_card_long              118\n",
            "home_substitute_in_long              4\n",
            "away_substitute_in_long              5\n",
            "dtype: int64\n"
          ]
        }
      ]
    },
    {
      "cell_type": "code",
      "source": [
        "# Contar valores duplicados\n",
        "print(\"\\nCantidad de filas duplicadas:\")\n",
        "print(df_matches.duplicated().sum())"
      ],
      "metadata": {
        "colab": {
          "base_uri": "https://localhost:8080/"
        },
        "id": "7cJripUqO0DG",
        "outputId": "c971d716-1e3d-4455-8264-8b1a72138a56"
      },
      "execution_count": 70,
      "outputs": [
        {
          "output_type": "stream",
          "name": "stdout",
          "text": [
            "\n",
            "Cantidad de filas duplicadas:\n",
            "0\n"
          ]
        }
      ]
    },
    {
      "cell_type": "code",
      "source": [
        "# Mostrar el tipo de dato de cada columna\n",
        "print(\"\\nTipos de datos de cada columna:\")\n",
        "print(df_matches.dtypes)"
      ],
      "metadata": {
        "colab": {
          "base_uri": "https://localhost:8080/"
        },
        "id": "kQ7hbCWaO3QF",
        "outputId": "a5d8d81d-7ada-4e8d-e672-c066f370a08f"
      },
      "execution_count": 71,
      "outputs": [
        {
          "output_type": "stream",
          "name": "stdout",
          "text": [
            "\n",
            "Tipos de datos de cada columna:\n",
            "home_team                           object\n",
            "away_team                           object\n",
            "home_score                           int64\n",
            "home_xg                            float64\n",
            "home_penalty                       float64\n",
            "away_score                           int64\n",
            "away_xg                            float64\n",
            "away_penalty                       float64\n",
            "home_manager                        object\n",
            "home_captain                        object\n",
            "away_manager                        object\n",
            "away_captain                        object\n",
            "Attendance                           int64\n",
            "Venue                               object\n",
            "Officials                           object\n",
            "Round                               object\n",
            "Date                                object\n",
            "Score                               object\n",
            "Referee                             object\n",
            "Notes                               object\n",
            "Host                                object\n",
            "Year                                 int64\n",
            "home_goal                           object\n",
            "away_goal                           object\n",
            "home_goal_long                      object\n",
            "away_goal_long                      object\n",
            "home_own_goal                       object\n",
            "away_own_goal                       object\n",
            "home_penalty_goal                   object\n",
            "away_penalty_goal                   object\n",
            "home_penalty_miss_long              object\n",
            "away_penalty_miss_long              object\n",
            "home_penalty_shootout_goal_long     object\n",
            "away_penalty_shootout_goal_long     object\n",
            "home_penalty_shootout_miss_long     object\n",
            "away_penalty_shootout_miss_long     object\n",
            "home_red_card                       object\n",
            "away_red_card                       object\n",
            "home_yellow_red_card                object\n",
            "away_yellow_red_card                object\n",
            "home_yellow_card_long               object\n",
            "away_yellow_card_long               object\n",
            "home_substitute_in_long             object\n",
            "away_substitute_in_long             object\n",
            "dtype: object\n"
          ]
        }
      ]
    },
    {
      "cell_type": "markdown",
      "source": [
        "2. Validación cruzada entre las tablas, identifique los campos que relacionan las tablas y si existen datos faltantes en dichos campos."
      ],
      "metadata": {
        "id": "Xm4mnULKaYLI"
      }
    },
    {
      "cell_type": "markdown",
      "source": [
        "Se relacionan por el año y el host (sin embargo para tener una mejor integridad de los datos se deben relacionar solo por el año en este caso, ya que las columnas de tipo string no son recomendables para cruzar tablas), en ninguna de las tablas hay datos faltantes para estas columnas."
      ],
      "metadata": {
        "id": "ax3s69qVbebG"
      }
    },
    {
      "cell_type": "markdown",
      "source": [
        "3. Transforme las tablas para entregar UNA ÚNICA TABLA que muestre"
      ],
      "metadata": {
        "id": "K6BzPsdmcUff"
      }
    },
    {
      "cell_type": "markdown",
      "source": [
        " I.\n",
        " Año, Host, Equipo, Partidos Jugados, Goles Totales marcados, Promedio de Goles marcados, Goles Totales recibidos, promedio de\n",
        " goles recibidos, partidos totales ganados, partidos totales perdidos y partidos totales empatados, promedio de asistencia por\n",
        " equipo."
      ],
      "metadata": {
        "id": "uzxhDrzAPw2n"
      }
    },
    {
      "cell_type": "code",
      "source": [
        "def process_world_cup_data(df1, df2):\n",
        "    merged_df = df1.merge(df2, on=['Year', 'Host'], how='left')\n",
        "\n",
        "    # Obtener lista de equipos\n",
        "    teams = pd.concat([merged_df['home_team'], merged_df['away_team']]).unique()\n",
        "\n",
        "    # Crear diccionario para almacenar los datos por equipo y año\n",
        "    team_stats = {}\n",
        "\n",
        "    # Recorrer partidos y calcular estadísticas\n",
        "    for _, row in merged_df.iterrows():\n",
        "        home_team, away_team = row['home_team'], row['away_team']\n",
        "        home_goals, away_goals = row['home_score'], row['away_score']\n",
        "        attendance = row['Attendance_x']\n",
        "        year, host = row['Year'], row['Host']\n",
        "\n",
        "        for team in [home_team, away_team]:\n",
        "            key = (team, year)\n",
        "            if key not in team_stats:\n",
        "                team_stats[key] = {'Team': team, 'Year': year, 'Host': host, 'Games Played': 0, 'Goals Scored': 0,\n",
        "                                   'Goals Conceded': 0, 'Wins': 0, 'Losses': 0, 'Draws': 0, 'Attendance Avg': 0}\n",
        "\n",
        "            team_stats[key]['Games Played'] += 1\n",
        "            team_stats[key]['Attendance Avg'] += attendance\n",
        "\n",
        "        # Actualizar goles anotados y recibidos\n",
        "        team_stats[(home_team, year)]['Goals Scored'] += home_goals\n",
        "        team_stats[(away_team, year)]['Goals Scored'] += away_goals\n",
        "        team_stats[(home_team, year)]['Goals Conceded'] += away_goals\n",
        "        team_stats[(away_team, year)]['Goals Conceded'] += home_goals\n",
        "\n",
        "        # Determinar resultados de los partidos\n",
        "        if home_goals > away_goals:\n",
        "            team_stats[(home_team, year)]['Wins'] += 1\n",
        "            team_stats[(away_team, year)]['Losses'] += 1\n",
        "        elif home_goals < away_goals:\n",
        "            team_stats[(away_team, year)]['Wins'] += 1\n",
        "            team_stats[(home_team, year)]['Losses'] += 1\n",
        "        else:\n",
        "            team_stats[(home_team, year)]['Draws'] += 1\n",
        "            team_stats[(away_team, year)]['Draws'] += 1\n",
        "\n",
        "    # Convertir diccionario en DataFrame\n",
        "    final_df = pd.DataFrame.from_dict(team_stats, orient='index')\n",
        "\n",
        "    # Calcular promedios\n",
        "    final_df['Goals Scored Avg'] = final_df['Goals Scored'] / final_df['Games Played']\n",
        "    final_df['Goals Conceded Avg'] = final_df['Goals Conceded'] / final_df['Games Played']\n",
        "    final_df['Attendance Avg'] /= final_df['Games Played']\n",
        "\n",
        "    return final_df.reset_index(drop=True)"
      ],
      "metadata": {
        "id": "RI0KJ6yhR8xy"
      },
      "execution_count": 72,
      "outputs": []
    },
    {
      "cell_type": "code",
      "source": [
        "nueva_tabla = process_world_cup_data(df_matches, df_world_cup)"
      ],
      "metadata": {
        "id": "aPPnHguhWbxd"
      },
      "execution_count": 73,
      "outputs": []
    },
    {
      "cell_type": "markdown",
      "source": [
        "## Estructura de nueva tabla"
      ],
      "metadata": {
        "id": "mCo0zVCPX9NA"
      }
    },
    {
      "cell_type": "code",
      "source": [
        "nueva_tabla.info()"
      ],
      "metadata": {
        "colab": {
          "base_uri": "https://localhost:8080/"
        },
        "id": "DVZ0izXzX5jJ",
        "outputId": "6d023d84-67bb-4536-88ce-7019626324bf"
      },
      "execution_count": 74,
      "outputs": [
        {
          "output_type": "stream",
          "name": "stdout",
          "text": [
            "<class 'pandas.core.frame.DataFrame'>\n",
            "RangeIndex: 168 entries, 0 to 167\n",
            "Data columns (total 12 columns):\n",
            " #   Column              Non-Null Count  Dtype  \n",
            "---  ------              --------------  -----  \n",
            " 0   Team                168 non-null    object \n",
            " 1   Year                168 non-null    int64  \n",
            " 2   Host                168 non-null    object \n",
            " 3   Games Played        168 non-null    int64  \n",
            " 4   Goals Scored        168 non-null    int64  \n",
            " 5   Goals Conceded      168 non-null    int64  \n",
            " 6   Wins                168 non-null    int64  \n",
            " 7   Losses              168 non-null    int64  \n",
            " 8   Draws               168 non-null    int64  \n",
            " 9   Attendance Avg      168 non-null    float64\n",
            " 10  Goals Scored Avg    168 non-null    float64\n",
            " 11  Goals Conceded Avg  168 non-null    float64\n",
            "dtypes: float64(3), int64(7), object(2)\n",
            "memory usage: 15.9+ KB\n"
          ]
        }
      ]
    },
    {
      "cell_type": "markdown",
      "source": [
        "### Guardar archivo para luego importarlo en PowerBI"
      ],
      "metadata": {
        "id": "X2jEu7Ho1DI8"
      }
    },
    {
      "cell_type": "code",
      "source": [
        "nueva_tabla.to_csv(\"Mundiales_Femeninos.csv\", index=False, encoding=\"utf-8\")"
      ],
      "metadata": {
        "id": "xqi2R1gL05V9"
      },
      "execution_count": 75,
      "outputs": []
    },
    {
      "cell_type": "markdown",
      "source": [
        "II.\n",
        " Con esta tabla identifique el equipo con más partidos ganados, el equipo con más partidos empatados y el equipo con más\n",
        "partidos perdidos."
      ],
      "metadata": {
        "id": "cpT163yFXyJy"
      }
    },
    {
      "cell_type": "code",
      "source": [
        "# Agrupar por equipo para obtener los totales históricos\n",
        "historical_stats = nueva_tabla.groupby(\"Team\").sum(numeric_only=True)\n",
        "\n",
        "# Calcular el número de Copas del Mundo jugadas por cada equipo\n",
        "world_cups_played = nueva_tabla.groupby(\"Team\")[\"Year\"].nunique()\n",
        "\n",
        "historical_stats[\"World Cups Played\"] = world_cups_played\n",
        "\n",
        "# Identificar los equipos con más victorias, empates y derrotas\n",
        "team_most_wins = historical_stats[\"Wins\"].idxmax()\n",
        "team_most_draws = historical_stats[\"Draws\"].idxmax()\n",
        "team_most_losses = historical_stats[\"Losses\"].idxmax()\n",
        "\n",
        "# Mostrar resultados\n",
        "print(f\"Equipo con más victorias: {team_most_wins} ({historical_stats.loc[team_most_wins, 'Wins']} victorias en {historical_stats.loc[team_most_wins, 'World Cups Played']} Mundiales)\")\n",
        "print(f\"Equipo con más empates: {team_most_draws} ({historical_stats.loc[team_most_draws, 'Draws']} empates en {historical_stats.loc[team_most_draws, 'World Cups Played']} Mundiales)\")\n",
        "print(f\"Equipo con más derrotas: {team_most_losses} ({historical_stats.loc[team_most_losses, 'Losses']} derrotas en {historical_stats.loc[team_most_losses, 'World Cups Played']} Mundiales)\")"
      ],
      "metadata": {
        "colab": {
          "base_uri": "https://localhost:8080/"
        },
        "id": "agRSpd73aR-P",
        "outputId": "4124e0b6-232c-494a-8915-6a03943e4525"
      },
      "execution_count": 76,
      "outputs": [
        {
          "output_type": "stream",
          "name": "stdout",
          "text": [
            "Equipo con más victorias: United States (41 victorias en 9 Mundiales)\n",
            "Equipo con más empates: United States (9 empates en 9 Mundiales)\n",
            "Equipo con más derrotas: Nigeria (19 derrotas en 9 Mundiales)\n"
          ]
        }
      ]
    },
    {
      "cell_type": "markdown",
      "source": [
        "III. Identifique el equipo con mayor promedio de goles anotados y el equipo con mayor promedio de goles recibidos."
      ],
      "metadata": {
        "id": "mhf-uQ-xYMqp"
      }
    },
    {
      "cell_type": "code",
      "source": [
        "# Calcular promedios generales\n",
        "historical_stats['Goals Scored Avg'] = historical_stats['Goals Scored'] / historical_stats['Games Played']\n",
        "historical_stats['Goals Conceded Avg'] = historical_stats['Goals Conceded'] / historical_stats['Games Played']\n",
        "\n",
        "# Equipo con mayor promedio de goles anotados\n",
        "team_highest_scoring = historical_stats['Goals Scored Avg'].idxmax()\n",
        "highest_scoring_avg = historical_stats.loc[team_highest_scoring, 'Goals Scored Avg']\n",
        "\n",
        "# Equipo con mayor promedio de goles recibidos\n",
        "team_most_conceded = historical_stats['Goals Conceded Avg'].idxmax()\n",
        "most_conceded_avg = historical_stats.loc[team_most_conceded, 'Goals Conceded Avg']\n",
        "\n",
        "# Mostrar resultados\n",
        "print(f\"Equipo con mayor promedio de goles anotados: {team_highest_scoring} ({highest_scoring_avg:.2f} goles por partido)\")\n",
        "print(f\"Equipo con mayor promedio de goles recibidos: {team_most_conceded} ({most_conceded_avg:.2f} goles por partido)\")"
      ],
      "metadata": {
        "colab": {
          "base_uri": "https://localhost:8080/"
        },
        "id": "0t__yiEEaEUf",
        "outputId": "77607012-03ec-4917-ad8e-4b40217e8791"
      },
      "execution_count": 77,
      "outputs": [
        {
          "output_type": "stream",
          "name": "stdout",
          "text": [
            "Equipo con mayor promedio de goles anotados: Germany (2.72 goles por partido)\n",
            "Equipo con mayor promedio de goles recibidos: Ecuador (5.67 goles por partido)\n"
          ]
        }
      ]
    },
    {
      "cell_type": "markdown",
      "source": [
        "IV. Compare los resultados de los puntos I y II con el número de mundiales que ha jugado cada equipo y concluya, ¿Realmente son\n",
        "los mejores o los peores?"
      ],
      "metadata": {
        "id": "frop2Gg-ZEAz"
      }
    },
    {
      "cell_type": "code",
      "source": [
        "# Mostrar resultados\n",
        "print(f\"Equipo con más victorias: {team_most_wins} ({historical_stats.loc[team_most_wins, 'Wins']} victorias en {historical_stats.loc[team_most_wins, 'World Cups Played']} Mundiales)\")\n",
        "print(f\"Equipo con más empates: {team_most_draws} ({historical_stats.loc[team_most_draws, 'Draws']} empates en {historical_stats.loc[team_most_draws, 'World Cups Played']} Mundiales)\")\n",
        "print(f\"Equipo con más derrotas: {team_most_losses} ({historical_stats.loc[team_most_losses, 'Losses']} derrotas en {historical_stats.loc[team_most_losses, 'World Cups Played']} Mundiales)\")\n",
        "\n",
        "print(f\"Equipo con mayor promedio de goles anotados: {team_highest_scoring} ({highest_scoring_avg:.2f} goles por partido)\")\n",
        "print(f\"Equipo con mayor promedio de goles recibidos: {team_most_conceded} ({most_conceded_avg:.2f} goles recibidos por partido)\")\n",
        "\n",
        "# Conclusión basada en la cantidad de Mundiales jugados\n",
        "print(f\"{team_most_wins} ha sido altamente efectivo en las ediciones en las que ha participado.\")\n",
        "print(f\"{team_most_losses} ha tenido un bajo rendimiento en los Mundiales en los que ha jugado.\")\n",
        "\n",
        "if team_most_losses == team_most_conceded:\n",
        "    print(f\"{team_most_losses} no solo ha perdido más partidos, sino que también ha recibido más goles en promedio, indicando una debilidad defensiva.\")\n",
        "else:\n",
        "    print(f\"{team_most_losses} ha perdido más partidos, pero {team_most_conceded} ha sido el equipo más vulnerable defensivamente.\")\n",
        "\n",
        "if team_most_wins == team_highest_scoring:\n",
        "    print(f\"{team_most_wins} no solo ha ganado más partidos, sino que también ha sido el equipo más ofensivo.\")\n",
        "else:\n",
        "    print(f\"{team_most_wins} ha ganado más partidos, pero {team_highest_scoring} ha sido el equipo más efectivo en ataque.\")\n"
      ],
      "metadata": {
        "colab": {
          "base_uri": "https://localhost:8080/"
        },
        "id": "LXJ7AzRrZ0ul",
        "outputId": "b3e5d6a6-1ebf-4c86-e8d1-7c8e78595922"
      },
      "execution_count": 78,
      "outputs": [
        {
          "output_type": "stream",
          "name": "stdout",
          "text": [
            "Equipo con más victorias: United States (41 victorias en 9 Mundiales)\n",
            "Equipo con más empates: United States (9 empates en 9 Mundiales)\n",
            "Equipo con más derrotas: Nigeria (19 derrotas en 9 Mundiales)\n",
            "Equipo con mayor promedio de goles anotados: Germany (2.72 goles por partido)\n",
            "Equipo con mayor promedio de goles recibidos: Ecuador (5.67 goles recibidos por partido)\n",
            "United States ha sido altamente efectivo en las ediciones en las que ha participado.\n",
            "Nigeria ha tenido un bajo rendimiento en los Mundiales en los que ha jugado.\n",
            "Nigeria ha perdido más partidos, pero Ecuador ha sido el equipo más vulnerable defensivamente.\n",
            "United States ha ganado más partidos, pero Germany ha sido el equipo más efectivo en ataque.\n"
          ]
        }
      ]
    },
    {
      "cell_type": "markdown",
      "source": [
        "4. Complete la tabla world_cup_women con los valores del promedio de goles de cada edición y el número de partidos que\n",
        "terminaron en empate."
      ],
      "metadata": {
        "id": "dbA5vEumMl0O"
      }
    },
    {
      "cell_type": "code",
      "source": [
        "# Calcular el promedio de goles por edición\n",
        "goals_per_edition = nueva_tabla.groupby(\"Year\")[\"Goals Scored\"].sum() / nueva_tabla.groupby(\"Year\")[\"Games Played\"].sum() * 2\n",
        "\n",
        "# Contar el número total de empates por edición\n",
        "draws_per_edition = nueva_tabla.groupby(\"Year\")[\"Draws\"].sum()\n",
        "\n",
        "# Añadir los valores a la tabla world_cup_women\n",
        "df_world_cup[\"Goals Avg\"] = df_world_cup[\"Year\"].map(goals_per_edition)\n",
        "df_world_cup[\"Draws\"] = (df_world_cup[\"Year\"].map(draws_per_edition).fillna(0) / 2).astype(int)\n",
        "\n",
        "# Mostrar la tabla actualizada\n",
        "df_world_cup"
      ],
      "metadata": {
        "colab": {
          "base_uri": "https://localhost:8080/",
          "height": 332
        },
        "id": "olT9Ab4hb7rl",
        "outputId": "23d5a537-52d0-4908-89c0-b47a7140eb1d"
      },
      "execution_count": 79,
      "outputs": [
        {
          "output_type": "execute_result",
          "data": {
            "text/plain": [
              "   Year                    Host  Teams       Champion      Runner-Up  \\\n",
              "0  2023  Australia, New Zealand     32            NaN            NaN   \n",
              "1  2019                  France     24  United States    Netherlands   \n",
              "2  2015                  Canada     24  United States          Japan   \n",
              "3  2011                 Germany     16          Japan  United States   \n",
              "4  2007                China PR     16        Germany         Brazil   \n",
              "5  2003           United States     16        Germany         Sweden   \n",
              "6  1999           United States     16  United States       China PR   \n",
              "7  1995                  Sweden     12         Norway        Germany   \n",
              "8  1991                China PR     12  United States         Norway   \n",
              "\n",
              "                          TopScorrer  Attendance  AttendanceAvg  Matches  \\\n",
              "0                Hinata Miyazawa - 5     1976274          30879       64   \n",
              "1  Alex Morgan, Megan Rapinoe... - 6     1095118          21902       52   \n",
              "2       Célia Šašić, Carli Lloyd - 6     1353486          26029       52   \n",
              "3                    Homare Sawa - 5      248107          31013       32   \n",
              "4                          Marta - 7     1176955          36780       32   \n",
              "5                   Birgit Prinz - 7      656789          20525       32   \n",
              "6                 Sun Wen, Sissi - 7     1214215          37944       32   \n",
              "7            Ann Kristin Aarønes - 6      112294           4319       26   \n",
              "8                Michelle Akers - 10      515000          19808       26   \n",
              "\n",
              "   Goals Avg  Draws  \n",
              "0   2.562500     13  \n",
              "1   2.807692      4  \n",
              "2   2.807692     11  \n",
              "3   2.687500      6  \n",
              "4   3.468750      6  \n",
              "5   3.281250      3  \n",
              "6   3.812500      6  \n",
              "7   3.807692      3  \n",
              "8   3.807692      1  "
            ],
            "text/html": [
              "\n",
              "  <div id=\"df-4f10c358-22ab-4567-8051-1cd66d040546\" class=\"colab-df-container\">\n",
              "    <div>\n",
              "<style scoped>\n",
              "    .dataframe tbody tr th:only-of-type {\n",
              "        vertical-align: middle;\n",
              "    }\n",
              "\n",
              "    .dataframe tbody tr th {\n",
              "        vertical-align: top;\n",
              "    }\n",
              "\n",
              "    .dataframe thead th {\n",
              "        text-align: right;\n",
              "    }\n",
              "</style>\n",
              "<table border=\"1\" class=\"dataframe\">\n",
              "  <thead>\n",
              "    <tr style=\"text-align: right;\">\n",
              "      <th></th>\n",
              "      <th>Year</th>\n",
              "      <th>Host</th>\n",
              "      <th>Teams</th>\n",
              "      <th>Champion</th>\n",
              "      <th>Runner-Up</th>\n",
              "      <th>TopScorrer</th>\n",
              "      <th>Attendance</th>\n",
              "      <th>AttendanceAvg</th>\n",
              "      <th>Matches</th>\n",
              "      <th>Goals Avg</th>\n",
              "      <th>Draws</th>\n",
              "    </tr>\n",
              "  </thead>\n",
              "  <tbody>\n",
              "    <tr>\n",
              "      <th>0</th>\n",
              "      <td>2023</td>\n",
              "      <td>Australia, New Zealand</td>\n",
              "      <td>32</td>\n",
              "      <td>NaN</td>\n",
              "      <td>NaN</td>\n",
              "      <td>Hinata Miyazawa - 5</td>\n",
              "      <td>1976274</td>\n",
              "      <td>30879</td>\n",
              "      <td>64</td>\n",
              "      <td>2.562500</td>\n",
              "      <td>13</td>\n",
              "    </tr>\n",
              "    <tr>\n",
              "      <th>1</th>\n",
              "      <td>2019</td>\n",
              "      <td>France</td>\n",
              "      <td>24</td>\n",
              "      <td>United States</td>\n",
              "      <td>Netherlands</td>\n",
              "      <td>Alex Morgan, Megan Rapinoe... - 6</td>\n",
              "      <td>1095118</td>\n",
              "      <td>21902</td>\n",
              "      <td>52</td>\n",
              "      <td>2.807692</td>\n",
              "      <td>4</td>\n",
              "    </tr>\n",
              "    <tr>\n",
              "      <th>2</th>\n",
              "      <td>2015</td>\n",
              "      <td>Canada</td>\n",
              "      <td>24</td>\n",
              "      <td>United States</td>\n",
              "      <td>Japan</td>\n",
              "      <td>Célia Šašić, Carli Lloyd - 6</td>\n",
              "      <td>1353486</td>\n",
              "      <td>26029</td>\n",
              "      <td>52</td>\n",
              "      <td>2.807692</td>\n",
              "      <td>11</td>\n",
              "    </tr>\n",
              "    <tr>\n",
              "      <th>3</th>\n",
              "      <td>2011</td>\n",
              "      <td>Germany</td>\n",
              "      <td>16</td>\n",
              "      <td>Japan</td>\n",
              "      <td>United States</td>\n",
              "      <td>Homare Sawa - 5</td>\n",
              "      <td>248107</td>\n",
              "      <td>31013</td>\n",
              "      <td>32</td>\n",
              "      <td>2.687500</td>\n",
              "      <td>6</td>\n",
              "    </tr>\n",
              "    <tr>\n",
              "      <th>4</th>\n",
              "      <td>2007</td>\n",
              "      <td>China PR</td>\n",
              "      <td>16</td>\n",
              "      <td>Germany</td>\n",
              "      <td>Brazil</td>\n",
              "      <td>Marta - 7</td>\n",
              "      <td>1176955</td>\n",
              "      <td>36780</td>\n",
              "      <td>32</td>\n",
              "      <td>3.468750</td>\n",
              "      <td>6</td>\n",
              "    </tr>\n",
              "    <tr>\n",
              "      <th>5</th>\n",
              "      <td>2003</td>\n",
              "      <td>United States</td>\n",
              "      <td>16</td>\n",
              "      <td>Germany</td>\n",
              "      <td>Sweden</td>\n",
              "      <td>Birgit Prinz - 7</td>\n",
              "      <td>656789</td>\n",
              "      <td>20525</td>\n",
              "      <td>32</td>\n",
              "      <td>3.281250</td>\n",
              "      <td>3</td>\n",
              "    </tr>\n",
              "    <tr>\n",
              "      <th>6</th>\n",
              "      <td>1999</td>\n",
              "      <td>United States</td>\n",
              "      <td>16</td>\n",
              "      <td>United States</td>\n",
              "      <td>China PR</td>\n",
              "      <td>Sun Wen, Sissi - 7</td>\n",
              "      <td>1214215</td>\n",
              "      <td>37944</td>\n",
              "      <td>32</td>\n",
              "      <td>3.812500</td>\n",
              "      <td>6</td>\n",
              "    </tr>\n",
              "    <tr>\n",
              "      <th>7</th>\n",
              "      <td>1995</td>\n",
              "      <td>Sweden</td>\n",
              "      <td>12</td>\n",
              "      <td>Norway</td>\n",
              "      <td>Germany</td>\n",
              "      <td>Ann Kristin Aarønes - 6</td>\n",
              "      <td>112294</td>\n",
              "      <td>4319</td>\n",
              "      <td>26</td>\n",
              "      <td>3.807692</td>\n",
              "      <td>3</td>\n",
              "    </tr>\n",
              "    <tr>\n",
              "      <th>8</th>\n",
              "      <td>1991</td>\n",
              "      <td>China PR</td>\n",
              "      <td>12</td>\n",
              "      <td>United States</td>\n",
              "      <td>Norway</td>\n",
              "      <td>Michelle Akers - 10</td>\n",
              "      <td>515000</td>\n",
              "      <td>19808</td>\n",
              "      <td>26</td>\n",
              "      <td>3.807692</td>\n",
              "      <td>1</td>\n",
              "    </tr>\n",
              "  </tbody>\n",
              "</table>\n",
              "</div>\n",
              "    <div class=\"colab-df-buttons\">\n",
              "\n",
              "  <div class=\"colab-df-container\">\n",
              "    <button class=\"colab-df-convert\" onclick=\"convertToInteractive('df-4f10c358-22ab-4567-8051-1cd66d040546')\"\n",
              "            title=\"Convert this dataframe to an interactive table.\"\n",
              "            style=\"display:none;\">\n",
              "\n",
              "  <svg xmlns=\"http://www.w3.org/2000/svg\" height=\"24px\" viewBox=\"0 -960 960 960\">\n",
              "    <path d=\"M120-120v-720h720v720H120Zm60-500h600v-160H180v160Zm220 220h160v-160H400v160Zm0 220h160v-160H400v160ZM180-400h160v-160H180v160Zm440 0h160v-160H620v160ZM180-180h160v-160H180v160Zm440 0h160v-160H620v160Z\"/>\n",
              "  </svg>\n",
              "    </button>\n",
              "\n",
              "  <style>\n",
              "    .colab-df-container {\n",
              "      display:flex;\n",
              "      gap: 12px;\n",
              "    }\n",
              "\n",
              "    .colab-df-convert {\n",
              "      background-color: #E8F0FE;\n",
              "      border: none;\n",
              "      border-radius: 50%;\n",
              "      cursor: pointer;\n",
              "      display: none;\n",
              "      fill: #1967D2;\n",
              "      height: 32px;\n",
              "      padding: 0 0 0 0;\n",
              "      width: 32px;\n",
              "    }\n",
              "\n",
              "    .colab-df-convert:hover {\n",
              "      background-color: #E2EBFA;\n",
              "      box-shadow: 0px 1px 2px rgba(60, 64, 67, 0.3), 0px 1px 3px 1px rgba(60, 64, 67, 0.15);\n",
              "      fill: #174EA6;\n",
              "    }\n",
              "\n",
              "    .colab-df-buttons div {\n",
              "      margin-bottom: 4px;\n",
              "    }\n",
              "\n",
              "    [theme=dark] .colab-df-convert {\n",
              "      background-color: #3B4455;\n",
              "      fill: #D2E3FC;\n",
              "    }\n",
              "\n",
              "    [theme=dark] .colab-df-convert:hover {\n",
              "      background-color: #434B5C;\n",
              "      box-shadow: 0px 1px 3px 1px rgba(0, 0, 0, 0.15);\n",
              "      filter: drop-shadow(0px 1px 2px rgba(0, 0, 0, 0.3));\n",
              "      fill: #FFFFFF;\n",
              "    }\n",
              "  </style>\n",
              "\n",
              "    <script>\n",
              "      const buttonEl =\n",
              "        document.querySelector('#df-4f10c358-22ab-4567-8051-1cd66d040546 button.colab-df-convert');\n",
              "      buttonEl.style.display =\n",
              "        google.colab.kernel.accessAllowed ? 'block' : 'none';\n",
              "\n",
              "      async function convertToInteractive(key) {\n",
              "        const element = document.querySelector('#df-4f10c358-22ab-4567-8051-1cd66d040546');\n",
              "        const dataTable =\n",
              "          await google.colab.kernel.invokeFunction('convertToInteractive',\n",
              "                                                    [key], {});\n",
              "        if (!dataTable) return;\n",
              "\n",
              "        const docLinkHtml = 'Like what you see? Visit the ' +\n",
              "          '<a target=\"_blank\" href=https://colab.research.google.com/notebooks/data_table.ipynb>data table notebook</a>'\n",
              "          + ' to learn more about interactive tables.';\n",
              "        element.innerHTML = '';\n",
              "        dataTable['output_type'] = 'display_data';\n",
              "        await google.colab.output.renderOutput(dataTable, element);\n",
              "        const docLink = document.createElement('div');\n",
              "        docLink.innerHTML = docLinkHtml;\n",
              "        element.appendChild(docLink);\n",
              "      }\n",
              "    </script>\n",
              "  </div>\n",
              "\n",
              "\n",
              "<div id=\"df-2eb1d65a-5442-42c3-bd27-a6603417ebdf\">\n",
              "  <button class=\"colab-df-quickchart\" onclick=\"quickchart('df-2eb1d65a-5442-42c3-bd27-a6603417ebdf')\"\n",
              "            title=\"Suggest charts\"\n",
              "            style=\"display:none;\">\n",
              "\n",
              "<svg xmlns=\"http://www.w3.org/2000/svg\" height=\"24px\"viewBox=\"0 0 24 24\"\n",
              "     width=\"24px\">\n",
              "    <g>\n",
              "        <path d=\"M19 3H5c-1.1 0-2 .9-2 2v14c0 1.1.9 2 2 2h14c1.1 0 2-.9 2-2V5c0-1.1-.9-2-2-2zM9 17H7v-7h2v7zm4 0h-2V7h2v10zm4 0h-2v-4h2v4z\"/>\n",
              "    </g>\n",
              "</svg>\n",
              "  </button>\n",
              "\n",
              "<style>\n",
              "  .colab-df-quickchart {\n",
              "      --bg-color: #E8F0FE;\n",
              "      --fill-color: #1967D2;\n",
              "      --hover-bg-color: #E2EBFA;\n",
              "      --hover-fill-color: #174EA6;\n",
              "      --disabled-fill-color: #AAA;\n",
              "      --disabled-bg-color: #DDD;\n",
              "  }\n",
              "\n",
              "  [theme=dark] .colab-df-quickchart {\n",
              "      --bg-color: #3B4455;\n",
              "      --fill-color: #D2E3FC;\n",
              "      --hover-bg-color: #434B5C;\n",
              "      --hover-fill-color: #FFFFFF;\n",
              "      --disabled-bg-color: #3B4455;\n",
              "      --disabled-fill-color: #666;\n",
              "  }\n",
              "\n",
              "  .colab-df-quickchart {\n",
              "    background-color: var(--bg-color);\n",
              "    border: none;\n",
              "    border-radius: 50%;\n",
              "    cursor: pointer;\n",
              "    display: none;\n",
              "    fill: var(--fill-color);\n",
              "    height: 32px;\n",
              "    padding: 0;\n",
              "    width: 32px;\n",
              "  }\n",
              "\n",
              "  .colab-df-quickchart:hover {\n",
              "    background-color: var(--hover-bg-color);\n",
              "    box-shadow: 0 1px 2px rgba(60, 64, 67, 0.3), 0 1px 3px 1px rgba(60, 64, 67, 0.15);\n",
              "    fill: var(--button-hover-fill-color);\n",
              "  }\n",
              "\n",
              "  .colab-df-quickchart-complete:disabled,\n",
              "  .colab-df-quickchart-complete:disabled:hover {\n",
              "    background-color: var(--disabled-bg-color);\n",
              "    fill: var(--disabled-fill-color);\n",
              "    box-shadow: none;\n",
              "  }\n",
              "\n",
              "  .colab-df-spinner {\n",
              "    border: 2px solid var(--fill-color);\n",
              "    border-color: transparent;\n",
              "    border-bottom-color: var(--fill-color);\n",
              "    animation:\n",
              "      spin 1s steps(1) infinite;\n",
              "  }\n",
              "\n",
              "  @keyframes spin {\n",
              "    0% {\n",
              "      border-color: transparent;\n",
              "      border-bottom-color: var(--fill-color);\n",
              "      border-left-color: var(--fill-color);\n",
              "    }\n",
              "    20% {\n",
              "      border-color: transparent;\n",
              "      border-left-color: var(--fill-color);\n",
              "      border-top-color: var(--fill-color);\n",
              "    }\n",
              "    30% {\n",
              "      border-color: transparent;\n",
              "      border-left-color: var(--fill-color);\n",
              "      border-top-color: var(--fill-color);\n",
              "      border-right-color: var(--fill-color);\n",
              "    }\n",
              "    40% {\n",
              "      border-color: transparent;\n",
              "      border-right-color: var(--fill-color);\n",
              "      border-top-color: var(--fill-color);\n",
              "    }\n",
              "    60% {\n",
              "      border-color: transparent;\n",
              "      border-right-color: var(--fill-color);\n",
              "    }\n",
              "    80% {\n",
              "      border-color: transparent;\n",
              "      border-right-color: var(--fill-color);\n",
              "      border-bottom-color: var(--fill-color);\n",
              "    }\n",
              "    90% {\n",
              "      border-color: transparent;\n",
              "      border-bottom-color: var(--fill-color);\n",
              "    }\n",
              "  }\n",
              "</style>\n",
              "\n",
              "  <script>\n",
              "    async function quickchart(key) {\n",
              "      const quickchartButtonEl =\n",
              "        document.querySelector('#' + key + ' button');\n",
              "      quickchartButtonEl.disabled = true;  // To prevent multiple clicks.\n",
              "      quickchartButtonEl.classList.add('colab-df-spinner');\n",
              "      try {\n",
              "        const charts = await google.colab.kernel.invokeFunction(\n",
              "            'suggestCharts', [key], {});\n",
              "      } catch (error) {\n",
              "        console.error('Error during call to suggestCharts:', error);\n",
              "      }\n",
              "      quickchartButtonEl.classList.remove('colab-df-spinner');\n",
              "      quickchartButtonEl.classList.add('colab-df-quickchart-complete');\n",
              "    }\n",
              "    (() => {\n",
              "      let quickchartButtonEl =\n",
              "        document.querySelector('#df-2eb1d65a-5442-42c3-bd27-a6603417ebdf button');\n",
              "      quickchartButtonEl.style.display =\n",
              "        google.colab.kernel.accessAllowed ? 'block' : 'none';\n",
              "    })();\n",
              "  </script>\n",
              "</div>\n",
              "\n",
              "  <div id=\"id_a3520c39-1d54-428d-a588-0244ecc51c6d\">\n",
              "    <style>\n",
              "      .colab-df-generate {\n",
              "        background-color: #E8F0FE;\n",
              "        border: none;\n",
              "        border-radius: 50%;\n",
              "        cursor: pointer;\n",
              "        display: none;\n",
              "        fill: #1967D2;\n",
              "        height: 32px;\n",
              "        padding: 0 0 0 0;\n",
              "        width: 32px;\n",
              "      }\n",
              "\n",
              "      .colab-df-generate:hover {\n",
              "        background-color: #E2EBFA;\n",
              "        box-shadow: 0px 1px 2px rgba(60, 64, 67, 0.3), 0px 1px 3px 1px rgba(60, 64, 67, 0.15);\n",
              "        fill: #174EA6;\n",
              "      }\n",
              "\n",
              "      [theme=dark] .colab-df-generate {\n",
              "        background-color: #3B4455;\n",
              "        fill: #D2E3FC;\n",
              "      }\n",
              "\n",
              "      [theme=dark] .colab-df-generate:hover {\n",
              "        background-color: #434B5C;\n",
              "        box-shadow: 0px 1px 3px 1px rgba(0, 0, 0, 0.15);\n",
              "        filter: drop-shadow(0px 1px 2px rgba(0, 0, 0, 0.3));\n",
              "        fill: #FFFFFF;\n",
              "      }\n",
              "    </style>\n",
              "    <button class=\"colab-df-generate\" onclick=\"generateWithVariable('df_world_cup')\"\n",
              "            title=\"Generate code using this dataframe.\"\n",
              "            style=\"display:none;\">\n",
              "\n",
              "  <svg xmlns=\"http://www.w3.org/2000/svg\" height=\"24px\"viewBox=\"0 0 24 24\"\n",
              "       width=\"24px\">\n",
              "    <path d=\"M7,19H8.4L18.45,9,17,7.55,7,17.6ZM5,21V16.75L18.45,3.32a2,2,0,0,1,2.83,0l1.4,1.43a1.91,1.91,0,0,1,.58,1.4,1.91,1.91,0,0,1-.58,1.4L9.25,21ZM18.45,9,17,7.55Zm-12,3A5.31,5.31,0,0,0,4.9,8.1,5.31,5.31,0,0,0,1,6.5,5.31,5.31,0,0,0,4.9,4.9,5.31,5.31,0,0,0,6.5,1,5.31,5.31,0,0,0,8.1,4.9,5.31,5.31,0,0,0,12,6.5,5.46,5.46,0,0,0,6.5,12Z\"/>\n",
              "  </svg>\n",
              "    </button>\n",
              "    <script>\n",
              "      (() => {\n",
              "      const buttonEl =\n",
              "        document.querySelector('#id_a3520c39-1d54-428d-a588-0244ecc51c6d button.colab-df-generate');\n",
              "      buttonEl.style.display =\n",
              "        google.colab.kernel.accessAllowed ? 'block' : 'none';\n",
              "\n",
              "      buttonEl.onclick = () => {\n",
              "        google.colab.notebook.generateWithVariable('df_world_cup');\n",
              "      }\n",
              "      })();\n",
              "    </script>\n",
              "  </div>\n",
              "\n",
              "    </div>\n",
              "  </div>\n"
            ],
            "application/vnd.google.colaboratory.intrinsic+json": {
              "type": "dataframe",
              "variable_name": "df_world_cup",
              "summary": "{\n  \"name\": \"df_world_cup\",\n  \"rows\": 9,\n  \"fields\": [\n    {\n      \"column\": \"Year\",\n      \"properties\": {\n        \"dtype\": \"number\",\n        \"std\": 10,\n        \"min\": 1991,\n        \"max\": 2023,\n        \"num_unique_values\": 9,\n        \"samples\": [\n          1995,\n          2019,\n          2003\n        ],\n        \"semantic_type\": \"\",\n        \"description\": \"\"\n      }\n    },\n    {\n      \"column\": \"Host\",\n      \"properties\": {\n        \"dtype\": \"string\",\n        \"num_unique_values\": 7,\n        \"samples\": [\n          \"Australia, New Zealand\",\n          \"France\",\n          \"United States\"\n        ],\n        \"semantic_type\": \"\",\n        \"description\": \"\"\n      }\n    },\n    {\n      \"column\": \"Teams\",\n      \"properties\": {\n        \"dtype\": \"number\",\n        \"std\": 6,\n        \"min\": 12,\n        \"max\": 32,\n        \"num_unique_values\": 4,\n        \"samples\": [\n          24,\n          12,\n          32\n        ],\n        \"semantic_type\": \"\",\n        \"description\": \"\"\n      }\n    },\n    {\n      \"column\": \"Champion\",\n      \"properties\": {\n        \"dtype\": \"category\",\n        \"num_unique_values\": 4,\n        \"samples\": [\n          \"Japan\",\n          \"Norway\",\n          \"United States\"\n        ],\n        \"semantic_type\": \"\",\n        \"description\": \"\"\n      }\n    },\n    {\n      \"column\": \"Runner-Up\",\n      \"properties\": {\n        \"dtype\": \"string\",\n        \"num_unique_values\": 8,\n        \"samples\": [\n          \"Japan\",\n          \"China PR\",\n          \"Netherlands\"\n        ],\n        \"semantic_type\": \"\",\n        \"description\": \"\"\n      }\n    },\n    {\n      \"column\": \"TopScorrer\",\n      \"properties\": {\n        \"dtype\": \"string\",\n        \"num_unique_values\": 9,\n        \"samples\": [\n          \"Ann Kristin Aar\\u00f8nes - 6\",\n          \"Alex Morgan, Megan Rapinoe... - 6\",\n          \"Birgit Prinz - 7\"\n        ],\n        \"semantic_type\": \"\",\n        \"description\": \"\"\n      }\n    },\n    {\n      \"column\": \"Attendance\",\n      \"properties\": {\n        \"dtype\": \"number\",\n        \"std\": 594085,\n        \"min\": 112294,\n        \"max\": 1976274,\n        \"num_unique_values\": 9,\n        \"samples\": [\n          112294,\n          1095118,\n          656789\n        ],\n        \"semantic_type\": \"\",\n        \"description\": \"\"\n      }\n    },\n    {\n      \"column\": \"AttendanceAvg\",\n      \"properties\": {\n        \"dtype\": \"number\",\n        \"std\": 10370,\n        \"min\": 4319,\n        \"max\": 37944,\n        \"num_unique_values\": 9,\n        \"samples\": [\n          4319,\n          21902,\n          20525\n        ],\n        \"semantic_type\": \"\",\n        \"description\": \"\"\n      }\n    },\n    {\n      \"column\": \"Matches\",\n      \"properties\": {\n        \"dtype\": \"number\",\n        \"std\": 13,\n        \"min\": 26,\n        \"max\": 64,\n        \"num_unique_values\": 4,\n        \"samples\": [\n          52,\n          26,\n          64\n        ],\n        \"semantic_type\": \"\",\n        \"description\": \"\"\n      }\n    },\n    {\n      \"column\": \"Goals Avg\",\n      \"properties\": {\n        \"dtype\": \"number\",\n        \"std\": 0.5199593567084028,\n        \"min\": 2.5625,\n        \"max\": 3.8125,\n        \"num_unique_values\": 7,\n        \"samples\": [\n          2.5625,\n          2.8076923076923075,\n          3.8125\n        ],\n        \"semantic_type\": \"\",\n        \"description\": \"\"\n      }\n    },\n    {\n      \"column\": \"Draws\",\n      \"properties\": {\n        \"dtype\": \"number\",\n        \"std\": 3,\n        \"min\": 1,\n        \"max\": 13,\n        \"num_unique_values\": 6,\n        \"samples\": [\n          13,\n          4,\n          1\n        ],\n        \"semantic_type\": \"\",\n        \"description\": \"\"\n      }\n    }\n  ]\n}"
            }
          },
          "metadata": {},
          "execution_count": 79
        }
      ]
    },
    {
      "cell_type": "code",
      "source": [
        "sns.set_theme(style=\"whitegrid\")\n",
        "fig, ax1 = plt.subplots(figsize=(12, 6))\n",
        "\n",
        "# Gráfico de líneas para el promedio de goles por edición\n",
        "sns.lineplot(data=df_world_cup, x=\"Year\", y=\"Goals Avg\", marker=\"o\", label=\"Prom. Goles\", ax=ax1, color=\"b\")\n",
        "ax1.set_ylabel(\"Goles Promedio por Partido\", color=\"b\")\n",
        "ax1.set_xlabel(\"Año de la Edición\")\n",
        "ax1.tick_params(axis=\"y\", labelcolor=\"b\")\n",
        "\n",
        "# Agregar etiquetas en cada punto\n",
        "for x, y in zip(df_world_cup[\"Year\"], df_world_cup[\"Goals Avg\"]):\n",
        "    plt.text(x, y, f\"{y:,.2f}\", ha='right', va='bottom', fontsize=10, fontweight=\"bold\")\n",
        "\n",
        "\n",
        "plt.title(\"Goles Promedio por Edición - Copa Mundial Femenina\")\n",
        "plt.show()"
      ],
      "metadata": {
        "colab": {
          "base_uri": "https://localhost:8080/",
          "height": 573
        },
        "id": "JVlcHlzAfQuP",
        "outputId": "fc16090d-040e-4fda-837d-96d920e54af2"
      },
      "execution_count": 80,
      "outputs": [
        {
          "output_type": "display_data",
          "data": {
            "text/plain": [
              "<Figure size 1200x600 with 1 Axes>"
            ],
            "image/png": "[encoded data removed]"
          },
          "metadata": {}
        }
      ]
    },
    {
      "cell_type": "code",
      "source": [
        "sns.set_theme(style=\"whitegrid\")\n",
        "plt.figure(figsize=(12, 6))\n",
        "\n",
        "sns.lineplot(data=df_world_cup, x=\"Year\", y=\"Attendance\", marker=\"o\", color=\"orange\", linewidth=2)\n",
        "\n",
        "# Agregar etiquetas en cada punto\n",
        "for x, y in zip(df_world_cup[\"Year\"], df_world_cup[\"Attendance\"]):\n",
        "    plt.text(x, y, f\"{y:,.0f}\", ha='right', va='bottom', fontsize=10, fontweight=\"bold\")\n",
        "\n",
        "plt.xlabel(\"Año de la Edición\")\n",
        "plt.ylabel(\"Asistencia Total\")\n",
        "plt.title(\"Evolución de la Asistencia Total por Edición - Copa Mundial Femenina\")\n",
        "plt.xticks(rotation=45)\n",
        "plt.grid(True, linestyle=\"--\", alpha=0.6)\n",
        "\n",
        "plt.show()"
      ],
      "metadata": {
        "colab": {
          "base_uri": "https://localhost:8080/",
          "height": 596
        },
        "id": "RzZty_lifjF0",
        "outputId": "a44763d2-f2c7-4cca-db12-7f17bff7ff85"
      },
      "execution_count": 81,
      "outputs": [
        {
          "output_type": "display_data",
          "data": {
            "text/plain": [
              "<Figure size 1200x600 with 1 Axes>"
            ],
            "image/png": "[encoded data removed]"
          },
          "metadata": {}
        }
      ]
    }
  ]
}